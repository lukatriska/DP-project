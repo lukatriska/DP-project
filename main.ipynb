{
 "cells": [
  {
   "cell_type": "markdown",
   "metadata": {},
   "source": [
    "## Introduction"
   ]
  },
  {
   "cell_type": "markdown",
   "metadata": {},
   "source": [
    "### Loading libraries"
   ]
  },
  {
   "cell_type": "code",
   "execution_count": 34,
   "metadata": {},
   "outputs": [],
   "source": [
    "import pandas as pd\n",
    "import pandas_profiling\n",
    "import numpy as np\n",
    "\n",
    "import seaborn as sns\n",
    "\n",
    "import xgboost as xgb\n",
    "\n",
    "from sklearn import metrics\n",
    "\n",
    "from scipy import stats\n",
    "\n",
    "import matplotlib.pyplot as plt\n",
    "%matplotlib inline"
   ]
  },
  {
   "cell_type": "code",
   "execution_count": 35,
   "metadata": {},
   "outputs": [],
   "source": [
    "import matplotlib"
   ]
  },
  {
   "cell_type": "code",
   "execution_count": 36,
   "metadata": {},
   "outputs": [],
   "source": [
    "import warnings\n",
    "warnings.filterwarnings('ignore')"
   ]
  },
  {
   "cell_type": "code",
   "execution_count": 37,
   "metadata": {},
   "outputs": [],
   "source": [
    "from sklearn.ensemble import RandomForestClassifier\n",
    "from sklearn.ensemble import AdaBoostClassifier\n",
    "from sklearn.ensemble import BaggingClassifier\n",
    "from sklearn.ensemble import GradientBoostingClassifier\n",
    "\n",
    "from sklearn.linear_model import LogisticRegression\n",
    "\n",
    "from sklearn.naive_bayes import GaussianNB\n",
    "\n",
    "from sklearn.tree import DecisionTreeClassifier\n",
    "\n",
    "from sklearn.model_selection import cross_val_score as cv\n",
    "from sklearn.model_selection import train_test_split"
   ]
  },
  {
   "cell_type": "code",
   "execution_count": 38,
   "metadata": {},
   "outputs": [],
   "source": [
    "from sklearn.model_selection import cross_val_score as cv"
   ]
  },
  {
   "cell_type": "code",
   "execution_count": 39,
   "metadata": {},
   "outputs": [],
   "source": [
    "import time"
   ]
  },
  {
   "cell_type": "markdown",
   "metadata": {},
   "source": [
    "### Loading data"
   ]
  },
  {
   "cell_type": "code",
   "execution_count": 40,
   "metadata": {},
   "outputs": [],
   "source": [
    "df_train = pd.read_csv(\"data/train.csv\")\n",
    "df_test = pd.read_csv(\"data/test.csv\")"
   ]
  },
  {
   "cell_type": "markdown",
   "metadata": {},
   "source": [
    "### Quick overview of our data:"
   ]
  },
  {
   "cell_type": "markdown",
   "metadata": {},
   "source": [
    "Happy customers have `TARGET = 0`, unhappy custormers have `TARGET==1`. \n",
    "A little less then 4% are unhappy"
   ]
  },
  {
   "cell_type": "code",
   "execution_count": 41,
   "metadata": {},
   "outputs": [
    {
     "data": {
      "text/html": [
       "<div>\n",
       "<style scoped>\n",
       "    .dataframe tbody tr th:only-of-type {\n",
       "        vertical-align: middle;\n",
       "    }\n",
       "\n",
       "    .dataframe tbody tr th {\n",
       "        vertical-align: top;\n",
       "    }\n",
       "\n",
       "    .dataframe thead th {\n",
       "        text-align: right;\n",
       "    }\n",
       "</style>\n",
       "<table border=\"1\" class=\"dataframe\">\n",
       "  <thead>\n",
       "    <tr style=\"text-align: right;\">\n",
       "      <th></th>\n",
       "      <th>TARGET</th>\n",
       "      <th>Percentage</th>\n",
       "    </tr>\n",
       "  </thead>\n",
       "  <tbody>\n",
       "    <tr>\n",
       "      <th>0</th>\n",
       "      <td>73012</td>\n",
       "      <td>96.043147</td>\n",
       "    </tr>\n",
       "    <tr>\n",
       "      <th>1</th>\n",
       "      <td>3008</td>\n",
       "      <td>3.956853</td>\n",
       "    </tr>\n",
       "  </tbody>\n",
       "</table>\n",
       "</div>"
      ],
      "text/plain": [
       "   TARGET  Percentage\n",
       "0   73012   96.043147\n",
       "1    3008    3.956853"
      ]
     },
     "execution_count": 41,
     "metadata": {},
     "output_type": "execute_result"
    }
   ],
   "source": [
    "df = pd.DataFrame(df_train.TARGET.value_counts())\n",
    "df['Percentage'] = 100*df['TARGET']/df_train.shape[0]\n",
    "df"
   ]
  },
  {
   "cell_type": "code",
   "execution_count": 42,
   "metadata": {},
   "outputs": [
    {
     "name": "stdout",
     "output_type": "stream",
     "text": [
      "<class 'pandas.core.frame.DataFrame'>\n",
      "RangeIndex: 76020 entries, 0 to 76019\n",
      "Columns: 371 entries, ID to TARGET\n",
      "dtypes: float64(111), int64(260)\n",
      "memory usage: 215.2 MB\n"
     ]
    }
   ],
   "source": [
    "df_train.info()"
   ]
  },
  {
   "cell_type": "code",
   "execution_count": 43,
   "metadata": {},
   "outputs": [
    {
     "name": "stdout",
     "output_type": "stream",
     "text": [
      "<class 'pandas.core.frame.DataFrame'>\n",
      "RangeIndex: 75818 entries, 0 to 75817\n",
      "Columns: 370 entries, ID to var38\n",
      "dtypes: float64(110), int64(260)\n",
      "memory usage: 214.0 MB\n"
     ]
    }
   ],
   "source": [
    "df_test.info()"
   ]
  },
  {
   "cell_type": "markdown",
   "metadata": {},
   "source": [
    "---\n",
    "## Data Processing"
   ]
  },
  {
   "cell_type": "markdown",
   "metadata": {},
   "source": [
    "### First, let's go through some of the important features"
   ]
  },
  {
   "cell_type": "markdown",
   "metadata": {},
   "source": [
    "### 1. `var3`: nationality of the customer"
   ]
  },
  {
   "cell_type": "code",
   "execution_count": 44,
   "metadata": {},
   "outputs": [
    {
     "data": {
      "text/plain": [
       " 2         74165\n",
       " 8           138\n",
       "-999999      116\n",
       " 9           110\n",
       " 3           108\n",
       " 1           105\n",
       " 13           98\n",
       " 7            97\n",
       " 4            86\n",
       " 12           85\n",
       "Name: var3, dtype: int64"
      ]
     },
     "execution_count": 44,
     "metadata": {},
     "output_type": "execute_result"
    }
   ],
   "source": [
    "df_train.var3.value_counts()[:10]"
   ]
  },
  {
   "cell_type": "markdown",
   "metadata": {},
   "source": [
    "116 values in column `var3` are -999999, which should mean that the nationality of the customer is unknown"
   ]
  },
  {
   "cell_type": "markdown",
   "metadata": {},
   "source": [
    "Let's replace -999999 in `var3` column with the most common value 2 "
   ]
  },
  {
   "cell_type": "code",
   "execution_count": 45,
   "metadata": {},
   "outputs": [],
   "source": [
    "df_train = df_train.replace(-999999,2)"
   ]
  },
  {
   "cell_type": "markdown",
   "metadata": {},
   "source": [
    "### 2. `num_var4` : number of bank products"
   ]
  },
  {
   "cell_type": "code",
   "execution_count": 46,
   "metadata": {},
   "outputs": [
    {
     "data": {
      "text/plain": [
       "Text(0.5,0,'Number of bank products')"
      ]
     },
     "execution_count": 46,
     "metadata": {},
     "output_type": "execute_result"
    },
    {
     "data": {
      "image/png": "[encoded data removed]",
      "text/plain": [
       "<Figure size 432x288 with 1 Axes>"
      ]
     },
     "metadata": {},
     "output_type": "display_data"
    }
   ],
   "source": [
    "plt = df_train.num_var4.hist(bins=100)\n",
    "plt.set_ylabel(\"Number of customers in train\")\n",
    "plt.set_xlabel(\"Number of bank products\")"
   ]
  },
  {
   "cell_type": "markdown",
   "metadata": {},
   "source": [
    "Looks like most customers have purchased one product from the bank"
   ]
  },
  {
   "cell_type": "markdown",
   "metadata": {},
   "source": [
    "### 3. Let's now look at the `var38` feature. It is suspected to be the value of the mortgage that a customer has with the bank."
   ]
  },
  {
   "cell_type": "code",
   "execution_count": 47,
   "metadata": {},
   "outputs": [
    {
     "data": {
      "text/plain": [
       "count    7.602000e+04\n",
       "mean     1.172358e+05\n",
       "std      1.826646e+05\n",
       "min      5.163750e+03\n",
       "25%      6.787061e+04\n",
       "50%      1.064092e+05\n",
       "75%      1.187563e+05\n",
       "max      2.203474e+07\n",
       "Name: var38, dtype: float64"
      ]
     },
     "execution_count": 47,
     "metadata": {},
     "output_type": "execute_result"
    }
   ],
   "source": [
    "df_train.var38.describe()"
   ]
  },
  {
   "cell_type": "markdown",
   "metadata": {},
   "source": [
    "Let's see what `var38` looks like when a customer is unhappy"
   ]
  },
  {
   "cell_type": "code",
   "execution_count": 48,
   "metadata": {},
   "outputs": [
    {
     "data": {
      "text/plain": [
       "count    3.008000e+03\n",
       "mean     9.967828e+04\n",
       "std      1.063098e+05\n",
       "min      1.113663e+04\n",
       "25%      5.716094e+04\n",
       "50%      8.621997e+04\n",
       "75%      1.173110e+05\n",
       "max      3.988595e+06\n",
       "Name: var38, dtype: float64"
      ]
     },
     "execution_count": 48,
     "metadata": {},
     "output_type": "execute_result"
    }
   ],
   "source": [
    "df_train.loc[df_train.TARGET==1, 'var38'].describe()"
   ]
  },
  {
   "cell_type": "markdown",
   "metadata": {},
   "source": [
    "Looks like the mean mortgage has risen quite a bit for unhappy customers. "
   ]
  },
  {
   "cell_type": "markdown",
   "metadata": {},
   "source": [
    "---"
   ]
  },
  {
   "cell_type": "markdown",
   "metadata": {},
   "source": [
    "What are the most common values for `var38`?"
   ]
  },
  {
   "cell_type": "code",
   "execution_count": 49,
   "metadata": {},
   "outputs": [
    {
     "data": {
      "text/plain": [
       "117310.979016    14868\n",
       "451931.220000       16\n",
       "463625.160000       12\n",
       "288997.440000       11\n",
       "104563.800000       11\n",
       "236690.340000        8\n",
       "329603.970000        7\n",
       "104644.410000        7\n",
       "67088.310000         7\n",
       "125722.440000        7\n",
       "128318.520000        7\n",
       "97639.560000         6\n",
       "100466.730000        6\n",
       "70813.800000         6\n",
       "163432.470000        6\n",
       "168733.620000        6\n",
       "105260.880000        6\n",
       "185385.690000        6\n",
       "85814.040000         5\n",
       "235476.720000        5\n",
       "121603.020000        5\n",
       "93037.680000         5\n",
       "63820.890000         5\n",
       "33184.020000         5\n",
       "126065.040000        5\n",
       "71302.530000         5\n",
       "208961.790000        5\n",
       "171932.700000        5\n",
       "131353.470000        5\n",
       "127141.500000        5\n",
       "                 ...  \n",
       "59680.710000         1\n",
       "46170.180000         1\n",
       "75729.810000         1\n",
       "92730.750000         1\n",
       "98087.700000         1\n",
       "31312.410000         1\n",
       "151944.720000        1\n",
       "49222.200000         1\n",
       "46682.640000         1\n",
       "79753.740000         1\n",
       "217717.530000        1\n",
       "156462.240000        1\n",
       "140446.590000        1\n",
       "83760.930000         1\n",
       "96135.960000         1\n",
       "89454.510000         1\n",
       "49273.950000         1\n",
       "261810.900000        1\n",
       "49898.280000         1\n",
       "39156.810000         1\n",
       "109771.530000        1\n",
       "39048.300000         1\n",
       "130580.130000        1\n",
       "177592.680000        1\n",
       "68635.170000         1\n",
       "318211.440000        1\n",
       "73069.260000         1\n",
       "36425.370000         1\n",
       "163515.900000        1\n",
       "159395.520000        1\n",
       "Name: var38, Length: 57736, dtype: int64"
      ]
     },
     "execution_count": 49,
     "metadata": {},
     "output_type": "execute_result"
    }
   ],
   "source": [
    "df_train.var38.value_counts()"
   ]
  },
  {
   "cell_type": "markdown",
   "metadata": {},
   "source": [
    "Looks like there are 14868 of the `117310.979016` value in `var38`. This value is very close to the mean of the column"
   ]
  },
  {
   "cell_type": "code",
   "execution_count": 50,
   "metadata": {},
   "outputs": [
    {
     "data": {
      "text/plain": [
       "117235.80943035621"
      ]
     },
     "execution_count": 50,
     "metadata": {},
     "output_type": "execute_result"
    }
   ],
   "source": [
    "df_train.var38.mean()"
   ]
  },
  {
   "cell_type": "markdown",
   "metadata": {},
   "source": [
    "### Removing constant columns"
   ]
  },
  {
   "cell_type": "code",
   "execution_count": 51,
   "metadata": {},
   "outputs": [
    {
     "name": "stdout",
     "output_type": "stream",
     "text": [
      "Removed 34 constant columns in the train dataframe\n",
      "Removed 45 constant columns in the test dataframe\n"
     ]
    }
   ],
   "source": [
    "train_cols_to_remove = [col for col in df_train.columns if df_train[col].std() == 0]\n",
    "test_cols_to_remove = [col for col in df_test.columns if df_test[col].std() == 0]\n",
    "\n",
    "df_train.drop(train_cols_to_remove, axis=1, inplace=True) \n",
    "df_test.drop(test_cols_to_remove, axis=1, inplace=True) \n",
    "\n",
    "print(\"Removed {} constant columns in the train dataframe\".format(len(train_cols_to_remove)))\n",
    "print(\"Removed {} constant columns in the test dataframe\".format(len(test_cols_to_remove)))"
   ]
  },
  {
   "cell_type": "markdown",
   "metadata": {},
   "source": [
    "### Removing duplicate columns"
   ]
  },
  {
   "cell_type": "code",
   "execution_count": 52,
   "metadata": {},
   "outputs": [],
   "source": [
    "def rm_dup_cols(df, cols):\n",
    "\n",
    "    cols_to_remove = []\n",
    "    \n",
    "    for i in range(len(cols)-1):\n",
    "        for j in range(i+1,len(cols)):\n",
    "            if np.array_equal(df[cols[i]].values, df[cols[j]].values):\n",
    "                cols_to_remove.append(cols[j])\n",
    "    return cols_to_remove"
   ]
  },
  {
   "cell_type": "code",
   "execution_count": 53,
   "metadata": {},
   "outputs": [
    {
     "name": "stdout",
     "output_type": "stream",
     "text": [
      "Removed 29 duplicate columns in the train dataframe\n",
      "Removed 25 duplicate columns in the test dataframe\n"
     ]
    }
   ],
   "source": [
    "train_cols_to_remove = rm_dup_cols(df_train, df_train.columns)\n",
    "test_cols_to_remove = rm_dup_cols(df_test, df_test.columns)\n",
    "\n",
    "df_train.drop(train_cols_to_remove, axis=1, inplace=True)\n",
    "df_test.drop(test_cols_to_remove, axis=1, inplace=True)\n",
    "\n",
    "print(\"Removed {} duplicate columns in the train dataframe\".format(len(train_cols_to_remove)))\n",
    "print(\"Removed {} duplicate columns in the test dataframe\".format(len(test_cols_to_remove)))"
   ]
  },
  {
   "cell_type": "markdown",
   "metadata": {},
   "source": [
    "### Splitting into the train and test sets"
   ]
  },
  {
   "cell_type": "code",
   "execution_count": 54,
   "metadata": {},
   "outputs": [],
   "source": [
    "Y = df_train['TARGET'].values\n",
    "del df_train['TARGET']\n",
    "\n",
    "# remove the redundant ID column\n",
    "del df_train['ID']"
   ]
  },
  {
   "cell_type": "code",
   "execution_count": 55,
   "metadata": {},
   "outputs": [],
   "source": [
    "X_train, X_test, y_train, y_test = train_test_split(df_train.values, Y, test_size = 0.2, random_state = 42)"
   ]
  },
  {
   "cell_type": "markdown",
   "metadata": {},
   "source": [
    "---\n",
    "\n",
    "## Modelling"
   ]
  },
  {
   "cell_type": "markdown",
   "metadata": {},
   "source": [
    "Let's try different classifiers and see what the accuracy scores are for each of them"
   ]
  },
  {
   "cell_type": "code",
   "execution_count": 56,
   "metadata": {},
   "outputs": [],
   "source": [
    "def score_model(clf):\n",
    "    print(\"\\nclassifier: \", clf.__class__.__name__)\n",
    "\n",
    "    start = time.time()\n",
    "    \n",
    "    scores = cv(clf, X_train, y_train, scoring='roc_auc', cv=3) \n",
    "    \n",
    "    print(\"time (in seconds): {}\".format(time.time() - start))\n",
    "    print(\"accuracy: {}\".format(scores.mean()))\n",
    "    \n",
    "    return scores.mean()"
   ]
  },
  {
   "cell_type": "code",
   "execution_count": 57,
   "metadata": {},
   "outputs": [
    {
     "name": "stdout",
     "output_type": "stream",
     "text": [
      "\n",
      "classifier:  DecisionTreeClassifier\n",
      "time (in seconds): 15.881367921829224\n",
      "accuracy: 0.5669062944980953\n",
      "\n",
      "classifier:  GaussianNB\n",
      "time (in seconds): 3.8030028343200684\n",
      "accuracy: 0.5139513024488257\n",
      "\n",
      "classifier:  LogisticRegression\n",
      "time (in seconds): 12.020312786102295\n",
      "accuracy: 0.606106398757902\n",
      "\n",
      "classifier:  AdaBoostClassifier\n",
      "time (in seconds): 73.64200139045715\n",
      "accuracy: 0.8207152587149743\n",
      "\n",
      "classifier:  RandomForestClassifier\n",
      "time (in seconds): 12.1240074634552\n",
      "accuracy: 0.6773319209419548\n",
      "\n",
      "classifier:  BaggingClassifier\n",
      "time (in seconds): 152.32199335098267\n",
      "accuracy: 0.696722449064592\n",
      "\n",
      "classifier:  GradientBoostingClassifier\n",
      "time (in seconds): 471.66397500038147\n",
      "accuracy: 0.8332953747611933\n"
     ]
    }
   ],
   "source": [
    "scores = dict()\n",
    "\n",
    "algorithms = [DecisionTreeClassifier(), \n",
    "              GaussianNB(), \n",
    "              LogisticRegression(), \n",
    "              AdaBoostClassifier(),\n",
    "              RandomForestClassifier(),\n",
    "              BaggingClassifier(),\n",
    "              GradientBoostingClassifier()]\n",
    "\n",
    "for algo in algorithms:\n",
    "    scores[algo.__class__.__name__] = score_model(algo)"
   ]
  },
  {
   "cell_type": "markdown",
   "metadata": {},
   "source": [
    "---\n",
    "## Feature selection"
   ]
  },
  {
   "cell_type": "markdown",
   "metadata": {},
   "source": [
    "Looks like we got the best accuracy from the `Gradient Boosting Classifier`. Let's see how important each feature was for our prediction"
   ]
  },
  {
   "cell_type": "code",
   "execution_count": 58,
   "metadata": {},
   "outputs": [],
   "source": [
    "GB_clf = GradientBoostingClassifier(random_state = 42).fit(X_train, y_train)"
   ]
  },
  {
   "cell_type": "code",
   "execution_count": 59,
   "metadata": {},
   "outputs": [
    {
     "data": {
      "text/plain": [
       "Text(0.5,0,'Columns')"
      ]
     },
     "execution_count": 59,
     "metadata": {},
     "output_type": "execute_result"
    },
    {
     "data": {
      "image/png": "[encoded data removed]",
      "text/plain": [
       "<Figure size 1152x288 with 1 Axes>"
      ]
     },
     "metadata": {},
     "output_type": "display_data"
    }
   ],
   "source": [
    "importances = pd.Series(GB_clf.feature_importances_, index = df_train.columns)\n",
    "importances.sort_values(inplace = True, ascending = False)\n",
    "\n",
    "plt = importances.head(20).plot(\n",
    "    kind='bar', \n",
    "    figsize=(16, 4), \n",
    "    title='Ranking Feature Importance'\n",
    ")\n",
    "plt.set_ylabel(\"Importance\")\n",
    "plt.set_xlabel(\"Columns\")"
   ]
  },
  {
   "cell_type": "markdown",
   "metadata": {},
   "source": [
    "### Now, let's see our final train and test acuracy"
   ]
  },
  {
   "cell_type": "code",
   "execution_count": 60,
   "metadata": {},
   "outputs": [
    {
     "name": "stdout",
     "output_type": "stream",
     "text": [
      "Train accuracy:  0.9615397263877927\n"
     ]
    }
   ],
   "source": [
    "train_acc = GB_clf.score(X_train, y_train)\n",
    "print(\"Train accuracy: \", train_acc)"
   ]
  },
  {
   "cell_type": "code",
   "execution_count": 61,
   "metadata": {},
   "outputs": [
    {
     "name": "stdout",
     "output_type": "stream",
     "text": [
      "Test accuracy:  0.9594843462246777\n"
     ]
    }
   ],
   "source": [
    "test_acc = metrics.accuracy_score(y_test, GB_clf.predict(X_test))\n",
    "print(\"Test accuracy: \", test_acc)"
   ]
  },
  {
   "cell_type": "code",
   "execution_count": null,
   "metadata": {},
   "outputs": [],
   "source": []
  }
 ],
 "metadata": {
  "kernelspec": {
   "display_name": "Python 3",
   "language": "python",
   "name": "python3"
  }
 },
 "nbformat": 4,
 "nbformat_minor": 1
}
